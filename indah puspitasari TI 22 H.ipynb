{
 "cells": [
  {
   "cell_type": "code",
   "execution_count": 10,
   "id": "e21ef2c7",
   "metadata": {},
   "outputs": [
    {
     "name": "stdout",
     "output_type": "stream",
     "text": [
      "welcome in python language\n"
     ]
    }
   ],
   "source": [
    "#Your code here\n",
    "def heloPython():\n",
    "    print('welcome in python language')\n",
    "    \n",
    "heloPython()"
   ]
  },
  {
   "cell_type": "code",
   "execution_count": 5,
   "id": "a1c8b320",
   "metadata": {},
   "outputs": [
    {
     "name": "stdout",
     "output_type": "stream",
     "text": [
      "indah puspitasari\n"
     ]
    }
   ],
   "source": [
    "#your code here\n",
    "def fullName(firstname, lastname):\n",
    "    print(f\"{firstname} {lastname}\")\n",
    "    \n",
    "fullName(\"indah\",\"puspitasari\")\n",
    "    "
   ]
  },
  {
   "cell_type": "code",
   "execution_count": 20,
   "id": "74cbc360",
   "metadata": {},
   "outputs": [
    {
     "name": "stdout",
     "output_type": "stream",
     "text": [
      "indah puspitasari, S.Kom\n"
     ]
    }
   ],
   "source": [
    "#your code here\n",
    "def getTitle(title= 'S.Kom'):\n",
    "    return title\n",
    "\n",
    "\n",
    "def fullNameWithTitle(firstname, lastname):\n",
    "    title = getTitle()\n",
    "    print(f\"{firstname} {lastname}, {title}\")\n",
    "    \n",
    "fullNameWithTitle(\"indah\",\"puspitasari\")\n",
    "    "
   ]
  },
  {
   "cell_type": "code",
   "execution_count": 23,
   "id": "f406532f",
   "metadata": {},
   "outputs": [
    {
     "name": "stdout",
     "output_type": "stream",
     "text": [
      "Dr.indah puspitasari, S.Kom,MM\n"
     ]
    }
   ],
   "source": [
    "#your code here\n",
    "def getTitle1(title= 'Dr'):\n",
    "    return title\n",
    "\n",
    "\n",
    "def getTitle2(title= 'S.Kom,MM'):\n",
    "    return title\n",
    "\n",
    "\n",
    "def fullNameWithTitle(firstname, lastname):\n",
    "    title1 = getTitle1()\n",
    "    title2 = getTitle2()\n",
    "    print(f\"{title1}.{firstname} {lastname}, {title2}\")\n",
    "    \n",
    "fullNameWithTitle(\"indah\",\"puspitasari\")\n",
    "    "
   ]
  },
  {
   "cell_type": "code",
   "execution_count": 31,
   "id": "2dd286f6",
   "metadata": {},
   "outputs": [
    {
     "data": {
      "text/plain": [
       "200"
      ]
     },
     "execution_count": 31,
     "metadata": {},
     "output_type": "execute_result"
    }
   ],
   "source": [
    "#Your code here\n",
    "def maxValue(val_1, val_2, val_3):\n",
    "    if val_1 >= val_2 and val_1 >= val_2:\n",
    "        return val_1\n",
    "    elif val_2 >= val_1 and val_2 >= val_3:\n",
    "        return val_2\n",
    "    elif val_3 >= val_1 and val_3 >= val_2:\n",
    "        return val_3\n",
    "    \n",
    "maxValue(200,200,40)"
   ]
  },
  {
   "cell_type": "code",
   "execution_count": 36,
   "id": "280697e4",
   "metadata": {},
   "outputs": [
    {
     "data": {
      "text/plain": [
       "78.5"
      ]
     },
     "execution_count": 36,
     "metadata": {},
     "output_type": "execute_result"
    }
   ],
   "source": [
    "#your code here\n",
    "def luaslingkaran(diameter,phi=3.14):\n",
    "    r = diameter/2\n",
    "    return phi * r * r\n",
    "\n",
    "luaslingkaran(10)"
   ]
  },
  {
   "cell_type": "code",
   "execution_count": 42,
   "id": "731e0fd6",
   "metadata": {},
   "outputs": [
    {
     "name": "stdout",
     "output_type": "stream",
     "text": [
      "100\n",
      "78.5\n",
      "21.5\n"
     ]
    }
   ],
   "source": [
    "#your code here\n",
    "def luaslingkaran(diameter,phi=3.14):\n",
    "    r = diameter/2\n",
    "    return phi * r * r\n",
    "def luaspersegi(sisi):\n",
    "    return sisi * sisi\n",
    "\n",
    "sisi = 10\n",
    "diameter = 10\n",
    "areaArsiran = luaspersegi(sisi)-luaslingkaran(diameter)\n",
    "print(luaspersegi(sisi))\n",
    "print(luaslingkaran(diameter))\n",
    "print(areaArsiran)\n",
    "\n",
    "#luaslingkaran(10)"
   ]
  },
  {
   "cell_type": "code",
   "execution_count": 44,
   "id": "99dc3ba8",
   "metadata": {},
   "outputs": [
    {
     "name": "stdout",
     "output_type": "stream",
     "text": [
      "suhu sekarang di Sukabumi : 20 celcius\n",
      "suhu sekarang di Sukabumi : 80 farenheit\n",
      "suhu sekarang di kutub utara : -10 celcius\n",
      "suhu sekarang di kutub utara : -40 farenheit\n"
     ]
    }
   ],
   "source": [
    "#you code here\n",
    "def info(suhu, daerah='Sukabumi', satuan='celcius'):\n",
    "    print(f\"suhu sekarang di {daerah} : {suhu} {satuan}\")\n",
    "    \n",
    "info(20)\n",
    "info(80,satuan='farenheit')\n",
    "info(-10,'kutub utara')\n",
    "info(-40,'kutub utara', 'farenheit')"
   ]
  },
  {
   "cell_type": "code",
   "execution_count": 46,
   "id": "7502b146",
   "metadata": {},
   "outputs": [
    {
     "data": {
      "text/plain": [
       "120"
      ]
     },
     "execution_count": 46,
     "metadata": {},
     "output_type": "execute_result"
    }
   ],
   "source": [
    "#fungsi rekursif\n",
    "def faktorial(bil):\n",
    "    if bil==1:\n",
    "        return 1\n",
    "    return bil * faktorial(bil-1)\n",
    "\n",
    "faktorial(5)"
   ]
  },
  {
   "cell_type": "code",
   "execution_count": 47,
   "id": "6b791aac",
   "metadata": {},
   "outputs": [
    {
     "data": {
      "text/plain": [
       "40"
      ]
     },
     "execution_count": 47,
     "metadata": {},
     "output_type": "execute_result"
    }
   ],
   "source": [
    "#latihan 1\n",
    "def total(nums):\n",
    "    total = 0\n",
    "    for n in nums:\n",
    "        total += n\n",
    "        \n",
    "    return total\n",
    "total([20,20])"
   ]
  },
  {
   "cell_type": "code",
   "execution_count": 54,
   "id": "7ca333c1",
   "metadata": {},
   "outputs": [
    {
     "data": {
      "text/plain": [
       "330"
      ]
     },
     "execution_count": 54,
     "metadata": {},
     "output_type": "execute_result"
    }
   ],
   "source": [
    "#fungsi menjumlahkan nilai list\n",
    "nilai_tugas = [100,90,80,60]\n",
    "\n",
    "def totalnilai(n_tugas):\n",
    "    total=0\n",
    "    for i in n_tugas:\n",
    "        total +=i\n",
    "        \n",
    "    return total\n",
    "\n",
    "totalnilai(nilai_tugas)"
   ]
  },
  {
   "cell_type": "code",
   "execution_count": 49,
   "id": "baf0caa9",
   "metadata": {},
   "outputs": [
    {
     "name": "stdout",
     "output_type": "stream",
     "text": [
      "330\n",
      "100\n"
     ]
    }
   ],
   "source": [
    "#fungsi mencari nilai terbesar dari perkumpulan list\n",
    "nilai_tugas = [100,90,80,60]\n",
    "\n",
    "def maxvalue(n_tugas):\n",
    "    maks = 0\n",
    "    for i in n_tugas:\n",
    "        if i > maks:\n",
    "            maks = i\n",
    "        return maks\n",
    "    \n",
    "print(totalnilai(nilai_tugas))\n",
    "print(maxvalue(nilai_tugas))"
   ]
  },
  {
   "cell_type": "code",
   "execution_count": 51,
   "id": "8f2cd140",
   "metadata": {},
   "outputs": [],
   "source": [
    "#fungsi untuk menjumlahkan 2 buah list"
   ]
  },
  {
   "cell_type": "code",
   "execution_count": 59,
   "id": "eb168772",
   "metadata": {},
   "outputs": [
    {
     "name": "stdout",
     "output_type": "stream",
     "text": [
      "RANKING 1 ADALAH.....\n",
      "\n",
      "nama: \n",
      "nilai 75\n"
     ]
    }
   ],
   "source": [
    "nilaiSiswa =[\n",
    "    {\n",
    "        \"nama\": \"iprit\",\n",
    "        \"nilai\": 75\n",
    "    },\n",
    "    {\n",
    "        \"nama\": \"opel\",\n",
    "        \"nilai\" : 80\n",
    "    },\n",
    "    {\n",
    "        \"nama\" : \"jubed\",\n",
    "        \"nilai\": 100\n",
    "    },\n",
    "    {\n",
    "        \"nama\": \"ipeh\",\n",
    "        \"nilai\": 99\n",
    "    }\n",
    "]\n",
    "\n",
    "def maxvalue(nilaiSiswa):\n",
    "    nilaiTerbesar = 0\n",
    "    orangTerbesar = ''\n",
    "    for siswa in nilaiSiswa:\n",
    "        nilai = siswa.get(\"nilai\")\n",
    "        nama = siswa.get(\"nama\")\n",
    "        \n",
    "        if nilai > nilaiTerbesar:\n",
    "            orangTerrbesar = nama\n",
    "            nilaiTerbesar = nilai\n",
    "            \n",
    "        return{\n",
    "            \"nama\": orangTerbesar,\n",
    "            \"nilai\": nilaiTerbesar\n",
    "        }\n",
    "siswa = maxvalue(nilaiSiswa)\n",
    "\n",
    "print(\"RANKING 1 ADALAH.....\\n\")\n",
    "print(\"nama:\", siswa.get(\"nama\"))\n",
    "print(\"nilai\", siswa.get(\"nilai\"))"
   ]
  },
  {
   "cell_type": "code",
   "execution_count": null,
   "id": "5a9dc345",
   "metadata": {},
   "outputs": [],
   "source": []
  },
  {
   "cell_type": "code",
   "execution_count": null,
   "id": "d94671ac",
   "metadata": {},
   "outputs": [],
   "source": []
  }
 ],
 "metadata": {
  "kernelspec": {
   "display_name": "Python 3 (ipykernel)",
   "language": "python",
   "name": "python3"
  },
  "language_info": {
   "codemirror_mode": {
    "name": "ipython",
    "version": 3
   },
   "file_extension": ".py",
   "mimetype": "text/x-python",
   "name": "python",
   "nbconvert_exporter": "python",
   "pygments_lexer": "ipython3",
   "version": "3.9.12"
  }
 },
 "nbformat": 4,
 "nbformat_minor": 5
}
